{
  "nbformat": 4,
  "nbformat_minor": 0,
  "metadata": {
    "colab": {
      "provenance": [],
      "include_colab_link": true
    },
    "kernelspec": {
      "name": "python3",
      "display_name": "Python 3"
    },
    "language_info": {
      "name": "python"
    }
  },
  "cells": [
    {
      "cell_type": "markdown",
      "metadata": {
        "id": "view-in-github",
        "colab_type": "text"
      },
      "source": [
        "<a href=\"https://colab.research.google.com/github/Juan2025-1/Clase-Ciencia-de-Datos-2025/blob/main/Ejemplo1.ipynb\" target=\"_parent\"><img src=\"https://colab.research.google.com/assets/colab-badge.svg\" alt=\"Open In Colab\"/></a>"
      ]
    },
    {
      "cell_type": "markdown",
      "source": [
        "*# Ejericio 1\n",
        "\n",
        "## Descripción: Capturar nombre, edad y validar si es esta es mayor o menor de edad\n",
        "\n",
        "* Datos de entrada: Nombre:String, edad:int(1-130)\n",
        "* Condición:\n",
        "  - Mensaje de menor edad \"Menor de edad\", cuando edad sea(1-17).\n",
        "  - Mensaje de menor edad \"Mayor de edad\", cuando edad sea(18-130).\n",
        "* Datos de salida:\n",
        "  * `Menor de edad`\n",
        "  * `Mayor de edad`\n",
        "  * Errores:\n",
        "    -  `Error al ingresar los datos, nombre no corresponde a dato numérico.`\n",
        "    -  `Error al ingresar los datos, edad debe ser entre (1-130).` text*"
      ],
      "metadata": {
        "id": "fnT9TJZAkkKc"
      }
    },
    {
      "cell_type": "code",
      "source": [
        "Nombre = input(\"¿Cuál es tu nombre? \")\n",
        "if Nombre.isdigit():\n",
        "  print(\"Error al ingresar los datos, nombre no corresponde a dato numérico.\")\n",
        "else:\n",
        "  edad = int(input(\"¿Cuántos años tienes? \"))\n",
        "  if edad < 0 or edad > 130:\n",
        "      print(\"Error al ingresar los datos, edad debe ser entre (1-130)\")\n",
        "  elif edad >= 18:\n",
        "      print(\"Mayor de edad\")\n",
        "  else:\n",
        "      print(\"Menor de edad\")"
      ],
      "metadata": {
        "colab": {
          "base_uri": "https://localhost:8080/"
        },
        "id": "-_DJBw5BkzVH",
        "outputId": "c9995bf5-8d08-4761-d2dc-40d80e5f114f"
      },
      "execution_count": null,
      "outputs": [
        {
          "output_type": "stream",
          "name": "stdout",
          "text": [
            "¿Cuál es tu nombre? gfds\n",
            "¿Cuántos años tienes? 12343\n",
            "Error al ingresar los datos, edad debe ser entre (1-130)\n"
          ]
        }
      ]
    }
  ]
}